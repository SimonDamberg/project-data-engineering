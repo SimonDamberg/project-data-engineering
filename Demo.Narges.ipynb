{
 "cells": [
  {
   "cell_type": "markdown",
   "id": "68498b22",
   "metadata": {},
   "source": [
    "## Analysis"
   ]
  },
  {
   "cell_type": "code",
   "execution_count": 1,
   "id": "dc47aaa1",
   "metadata": {},
   "outputs": [
    {
     "name": "stderr",
     "output_type": "stream",
     "text": [
      "WARNING: An illegal reflective access operation has occurred\n",
      "WARNING: Illegal reflective access by org.apache.spark.unsafe.Platform (file:/home/ubuntu/.local/lib/python3.10/site-packages/pyspark/jars/spark-unsafe_2.12-3.2.3.jar) to constructor java.nio.DirectByteBuffer(long,int)\n",
      "WARNING: Please consider reporting this to the maintainers of org.apache.spark.unsafe.Platform\n",
      "WARNING: Use --illegal-access=warn to enable warnings of further illegal reflective access operations\n",
      "WARNING: All illegal access operations will be denied in a future release\n",
      "Using Spark's default log4j profile: org/apache/spark/log4j-defaults.properties\n",
      "Setting default log level to \"WARN\".\n",
      "To adjust logging level use sc.setLogLevel(newLevel). For SparkR, use setLogLevel(newLevel).\n",
      "23/03/11 12:29:55 WARN NativeCodeLoader: Unable to load native-hadoop library for your platform... using builtin-java classes where applicable\n"
     ]
    }
   ],
   "source": [
    "from pyspark.sql import SparkSession\n",
    "spark_session = SparkSession.builder\\\n",
    "        .master(\"spark://192.168.2.144:7077\")\\\n",
    "        .appName(\"project-demo\")\\\n",
    "        .config(\"spark.cores.max\", 4)\\\n",
    "        .getOrCreate()"
   ]
  },
  {
   "cell_type": "code",
   "execution_count": 2,
   "id": "2cfd6603",
   "metadata": {
    "scrolled": true
   },
   "outputs": [
    {
     "name": "stderr",
     "output_type": "stream",
     "text": [
      "                                                                                \r"
     ]
    },
    {
     "name": "stdout",
     "output_type": "stream",
     "text": [
      "DataFrame[author: string, body: string, controversiality: bigint, is_submitter: string, score: bigint, subreddit_id: string]\n"
     ]
    },
    {
     "name": "stderr",
     "output_type": "stream",
     "text": [
      "                                                                                \r"
     ]
    },
    {
     "name": "stdout",
     "output_type": "stream",
     "text": [
      "Number of lines 3532867\n",
      "[Row(author='indecisive11', body='Amazon is a great starting point', controversiality=0, is_submitter=None, score=0, subreddit_id='t5_2qh2a'), Row(author='illskillz', body=\"Oh come on. You're concluding after 4 years of the conservatives being in power that the liberals will never win a majority again? You're crazy. The leaders will change and people's values will change. Some governments will be more successful than others. \", controversiality=0, is_submitter=None, score=1, subreddit_id='t5_2qh68'), Row(author='Joe091', body=\"Because they didn't catch him drinking water or pissing in the shower?\", controversiality=0, is_submitter=None, score=2, subreddit_id='t5_mouw'), Row(author='aoskilinn', body=\"My librarian friend has an MLS. Could you elaborate on what types of career paths this would open up? (Cuz I'm interested.)\", controversiality=0, is_submitter=None, score=1, subreddit_id='t5_2qh1i'), Row(author='neptunesscepter', body='Topanga I wanna bang ya', controversiality=0, is_submitter=None, score=1, subreddit_id='t5_2qh0u'), Row(author='coolmanmax2000', body=\"Take this as a wake up call and do better things with your life. Just make sure they weren't able to get your credit card info or anything.\", controversiality=0, is_submitter=None, score=1, subreddit_id='t5_2qh03'), Row(author='ferdinand', body=\"But why does the government want to pay what amounts to about 20% of the federal deficit for a plane that is only of use in an offensive war? Should Canada participate in America's permanent worldwide war? \", controversiality=0, is_submitter=None, score=2, subreddit_id='t5_2qh68'), Row(author='lebalove', body=\"Sometimes it just happens. Maybe you're having some fluctuations in your testosterone or estrogen. I also usually break out the week before my period starts, which is super annoying having to deal with PMS and zits. Yuck. Maybe it's the changing weather? Humidity? Bad voodoo presences in your vicinity? Maybe your skin wants to have one last laugh before you never ever have acne ever again? That would be awesome...\\n\\nIt's so hard to know for sure. But it won't last forever, and soon enough you'll forget it even happened.\", controversiality=0, is_submitter=None, score=1, subreddit_id='t5_2r2jt'), Row(author='[deleted]', body='How come the number of dead and wounded increases every time I check?', controversiality=0, is_submitter=None, score=2, subreddit_id='t5_2qh13'), Row(author='Indoorsman', body=\"UFC is as close to a sport as I watch. I hate sports unless I am playing/interacting with friends, other than that I don't care. But watching a human overcome another in the most basic form of unaltered competition I like, lol that is how my cousin explains it.. But I have seen maybe two live fights, at the houses of others, and watched cool moments on YouTube, the majority of figts I have seen are ones that my cousin gave me, gigs and gigs worth. Although I don't understand many of the areas of the sport, i have an immensive appreciation for those who can go up against the best in the world, keep their cool, and overcome extreme pain, fatique, and fear while demonstrating amazing skill. He'll I guess I like it more than I thought.  \\n\\nThen again my line of work has put me in some shitty situations and watching a fight I can recreate some of that adrenaline and suspense that danger brings. /Puts on sunglasses. It's not a cool job, don't ask lol. \", controversiality=0, is_submitter=None, score=1, subreddit_id='t5_2r5vt')]\n"
     ]
    }
   ],
   "source": [
    "reddit = spark_session.read.json(\"hdfs://192.168.2.144:9000/user/ubuntu/RC_2010-06_processed1.json\")\n",
    "print(reddit)\n",
    "print(f\"Number of lines {reddit.count()}\")\n",
    "print(reddit.take(10))"
   ]
  },
  {
   "cell_type": "code",
   "execution_count": 3,
   "id": "07feaf36",
   "metadata": {},
   "outputs": [],
   "source": [
    "#spark_session.stop() "
   ]
  },
  {
   "cell_type": "markdown",
   "id": "40fbac9b",
   "metadata": {},
   "source": [
    "to filter people who are not submitter"
   ]
  },
  {
   "cell_type": "markdown",
   "id": "b320b29e",
   "metadata": {},
   "source": [
    "To filter the scores less than 2"
   ]
  },
  {
   "cell_type": "markdown",
   "id": "a4e0636e",
   "metadata": {},
   "source": [
    "def function(Line):\n",
    "    tokenizer=Line.map(lambda Line:Line.split(' '))\n",
    "    return tokenizer\n",
    "lines=high_scores.function('body')"
   ]
  },
  {
   "cell_type": "markdown",
   "id": "7ec5e2c8",
   "metadata": {},
   "source": [
    "## What is the most frequent word"
   ]
  },
  {
   "cell_type": "code",
   "execution_count": null,
   "id": "3222c2be",
   "metadata": {},
   "outputs": [
    {
     "name": "stderr",
     "output_type": "stream",
     "text": [
      "[Stage 5:==============>                                            (2 + 4) / 8]\r"
     ]
    }
   ],
   "source": [
    "from pyspark.sql.functions import split, lower, col\n",
    "#To filter the dataframe(including columns) based on the rows with the score(2) which are not controversial\n",
    "reddit_filtered = reddit.filter((col(\"score\") == 2) & (col(\"controversiality\") == 0)) \n",
    "#To count the frequency of each word in the column named 'body'\n",
    "reddit_words = reddit_filtered.select(col(\"body\")).rdd.flatMap(lambda x: x[0].lower().split()).map(lambda x: (x, 1)).reduceByKey(lambda x, y: x + y)\n",
    "#to find the most frequent word in the filtered dataframe\n",
    "most_frequent_word = reddit_words.map(lambda x: (x[1], x[0])).sortByKey(False).map(lambda x: x[1]).first()\n",
    "\n",
    "print(f'The most frequent word is \"{most_frequent_word}\".')"
   ]
  },
  {
   "cell_type": "markdown",
   "id": "fdb79ab8",
   "metadata": {},
   "source": [
    "## What are the 10 most frequent words "
   ]
  },
  {
   "cell_type": "code",
   "execution_count": 5,
   "id": "bdcbbf5d",
   "metadata": {},
   "outputs": [
    {
     "name": "stderr",
     "output_type": "stream",
     "text": [
      "[Stage 13:===========================================>              (6 + 2) / 8]\r"
     ]
    },
    {
     "name": "stdout",
     "output_type": "stream",
     "text": [
      "the   829014\n",
      "to   540014\n",
      "a   509513\n",
      "i   468030\n",
      "and   423344\n",
      "of   376788\n",
      "you   294092\n",
      "that   280040\n",
      "is   279348\n",
      "in   259682\n"
     ]
    },
    {
     "name": "stderr",
     "output_type": "stream",
     "text": [
      "                                                                                \r"
     ]
    }
   ],
   "source": [
    "from pyspark.sql.functions import split, lower\n",
    "#To filter the dataframe(including columns) based on the rows with the score(2) which are not controversial\n",
    "reddit_filtered = reddit.rdd.filter(lambda row: row['score'] == 2 and row['controversiality'] == 0)\n",
    "#To split the  texts inserted in the body column in to the individual words\n",
    "reddit_words = reddit_filtered.flatMap(lambda row: row['body'].split())\n",
    "#To count the frequency of the words\n",
    "reddit_lowered = reddit_words.map(lambda word: (word.lower(), 1)).reduceByKey(lambda a, b: a + b)\n",
    "#To return the 10 most frequent words\n",
    "top_10 = reddit_lowered.takeOrdered(10, key=lambda x: -x[1])\n",
    "\n",
    "for word, count in top_10:\n",
    "    print(word, ' ', count)\n"
   ]
  },
  {
   "cell_type": "code",
   "execution_count": null,
   "id": "a977db3c",
   "metadata": {},
   "outputs": [],
   "source": []
  }
 ],
 "metadata": {
  "kernelspec": {
   "display_name": "Python 3 (ipykernel)",
   "language": "python",
   "name": "python3"
  },
  "language_info": {
   "codemirror_mode": {
    "name": "ipython",
    "version": 3
   },
   "file_extension": ".py",
   "mimetype": "text/x-python",
   "name": "python",
   "nbconvert_exporter": "python",
   "pygments_lexer": "ipython3",
   "version": "3.10.6"
  }
 },
 "nbformat": 4,
 "nbformat_minor": 5
}
