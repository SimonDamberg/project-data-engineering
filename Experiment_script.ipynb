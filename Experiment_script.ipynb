{
 "cells": [
  {
   "cell_type": "markdown",
   "id": "7d6301a9",
   "metadata": {},
   "source": [
    "# Readme"
   ]
  },
  {
   "cell_type": "raw",
   "id": "4bf57859",
   "metadata": {
    "raw_mimetype": "text/html"
   },
   "source": [
    "This file evaluates the effectiveness of horizontal scalability by timing ten runs for each experiment before and after the scalability implementation and comparing the mean time. The 'Configuration for Experiments' section specifies three groups of experiments with different amounts of records. Each group of experiments is run twice, once with two workers and again with four workers. The experiment metric function is called automatically, and two graphs are plotted for comparison.\n",
    "\n",
    "The file includes 5 parts:\n",
    "1.Start spark session\n",
    "2.Configuration for experiments\n",
    "3.Timing 10 runs for each experiment\n",
    "4.Ploting graphs\n",
    "5.Stop spark session\n",
    "\n",
    "There are 3 automatic parts:\n",
    "1.Read records automatically for each experiment based on the setting of \"Configuration for experiments\".\n",
    "2.Read word frequency counting function from another notebook automatically.\n",
    "3.Plot graphs automatically after the experiment outputs recorded."
   ]
  },
  {
   "cell_type": "markdown",
   "id": "944bc9b9",
   "metadata": {},
   "source": [
    "# Start spark session"
   ]
  },
  {
   "cell_type": "code",
   "execution_count": 35,
   "id": "939202cc",
   "metadata": {},
   "outputs": [
    {
     "name": "stderr",
     "output_type": "stream",
     "text": [
      "WARNING: An illegal reflective access operation has occurred\n",
      "WARNING: Illegal reflective access by org.apache.spark.unsafe.Platform (file:/home/ubuntu/.local/lib/python3.10/site-packages/pyspark/jars/spark-unsafe_2.12-3.2.3.jar) to constructor java.nio.DirectByteBuffer(long,int)\n",
      "WARNING: Please consider reporting this to the maintainers of org.apache.spark.unsafe.Platform\n",
      "WARNING: Use --illegal-access=warn to enable warnings of further illegal reflective access operations\n",
      "WARNING: All illegal access operations will be denied in a future release\n",
      "Using Spark's default log4j profile: org/apache/spark/log4j-defaults.properties\n",
      "Setting default log level to \"WARN\".\n",
      "To adjust logging level use sc.setLogLevel(newLevel). For SparkR, use setLogLevel(newLevel).\n",
      "23/03/13 22:24:55 WARN NativeCodeLoader: Unable to load native-hadoop library for your platform... using builtin-java classes where applicable\n"
     ]
    }
   ],
   "source": [
    "from pyspark.sql import SparkSession\n",
    "spark_session = SparkSession.builder\\\n",
    "        .master(\"spark://192.168.2.144:7077\")\\\n",
    "        .appName(\"project-group19\")\\\n",
    "        .config(\"spark.cores.max\", 8)\\\n",
    "        .getOrCreate()"
   ]
  },
  {
   "cell_type": "code",
   "execution_count": 38,
   "id": "2e06f8fc",
   "metadata": {},
   "outputs": [
    {
     "name": "stderr",
     "output_type": "stream",
     "text": [
      "                                                                                \r"
     ]
    },
    {
     "name": "stdout",
     "output_type": "stream",
     "text": [
      "DataFrame[author: string, body: string, controversiality: bigint, is_submitter: string, score: bigint, subreddit_id: string]\n"
     ]
    },
    {
     "name": "stderr",
     "output_type": "stream",
     "text": [
      "[Stage 5:===================================================>       (7 + 1) / 8]\r"
     ]
    },
    {
     "name": "stdout",
     "output_type": "stream",
     "text": [
      "Number of lines 3532867\n"
     ]
    },
    {
     "name": "stderr",
     "output_type": "stream",
     "text": [
      "\r",
      "                                                                                \r"
     ]
    }
   ],
   "source": [
    "#Read reddit from json file.\n",
    "reddit = spark_session.read.json(\"hdfs://192.168.2.144:9000/user/ubuntu/RC_2010-06_processed1.json\")\n",
    "print(reddit)\n",
    "print(f\"Number of lines {reddit.count()}\")\n",
    "#print(reddit.take(2))"
   ]
  },
  {
   "cell_type": "code",
   "execution_count": 41,
   "id": "a267af7c",
   "metadata": {},
   "outputs": [],
   "source": [
    "#Temporary code before the function is developed completely in another notebook.\n",
    "def word_frequency(reddit):\n",
    "\n",
    "   from pyspark.sql.functions import split, lower, col\n",
    "   #To filter the dataframe(including columns) based on the rows with high score(2) which are not controversial\n",
    "   reddit_filtered = reddit.filter((col(\"score\") == 2) & (col(\"controversiality\") == 0)) \n",
    "   #To count the frequency of each word in the column named 'body'\n",
    "   reddit_words = reddit_filtered.select(col(\"body\")).rdd.flatMap(lambda x: x[0].lower().split()).map(lambda x: (x, 1)).reduceByKey(lambda x, y: x + y)\n",
    "   #to find the most frequent word in the filtered dataframe\n",
    "   most_frequent_word = reddit_words.map(lambda x: (x[1], x[0])).sortByKey(False).map(lambda x: x[1]).first()\n",
    "\n",
    "   print(f'The most frequent word is \"{most_frequent_word}\".')\n",
    "    \n",
    "   from pyspark.sql.functions import split, lower\n",
    "   #To filter the dataframe(including columns) based on the rows with high score(2) which are not controversial\n",
    "   reddit_filtered = reddit.rdd.filter(lambda row: row['score'] == 2 and row['controversiality'] == 0)\n",
    "   #To split the  texts inserted in the body column in to the individual words\n",
    "   reddit_words = reddit_filtered.flatMap(lambda row: row['body'].split())\n",
    "   #To count the frequency of the words\n",
    "   reddit_lowered = reddit_words.map(lambda word: (word.lower(), 1)).reduceByKey(lambda a, b: a + b)\n",
    "   #To return the 10 most frequent words\n",
    "   top_10 = reddit_lowered.takeOrdered(10, key=lambda x: -x[1])\n",
    "\n",
    "   for word, count in top_10:\n",
    "       print(word, ' ', count)\n"
   ]
  },
  {
   "cell_type": "markdown",
   "id": "bad9a056",
   "metadata": {},
   "source": [
    "# Configuration for experiments"
   ]
  },
  {
   "cell_type": "code",
   "execution_count": 42,
   "id": "aceb0b32",
   "metadata": {},
   "outputs": [],
   "source": [
    "record1 = 1000 #The variable of amount of records for Experiment 1.\n",
    "record2 = 10000 #The variable of amount of records for Experiment 2.\n",
    "record3 = 100000 #The variable of amount of records for Experiment 3."
   ]
  },
  {
   "cell_type": "markdown",
   "id": "2501e9c8",
   "metadata": {},
   "source": [
    "Import Ipynb_importer python file for calling the word frequency counting function from another notebook."
   ]
  },
  {
   "cell_type": "code",
   "execution_count": null,
   "id": "ef33eccc",
   "metadata": {},
   "outputs": [],
   "source": [
    "import Ipynb_importer"
   ]
  },
  {
   "cell_type": "markdown",
   "id": "d0be70f4",
   "metadata": {},
   "source": [
    "# Timing 10 runs for each experiment"
   ]
  },
  {
   "cell_type": "markdown",
   "id": "577e8724",
   "metadata": {},
   "source": [
    "Experiment 1"
   ]
  },
  {
   "cell_type": "code",
   "execution_count": 12,
   "id": "a2cb0a06",
   "metadata": {},
   "outputs": [
    {
     "name": "stdout",
     "output_type": "stream",
     "text": [
      "DataFrame[author: string, body: string, controversiality: bigint, is_submitter: string, score: bigint, subreddit_id: string]\n",
      "The most frequent word is \"the\".\n",
      "the   267\n",
      "to   165\n",
      "a   163\n",
      "and   152\n",
      "i   146\n",
      "of   127\n",
      "is   97\n",
      "it   95\n",
      "you   90\n",
      "in   76\n",
      "DataFrame[author: string, body: string, controversiality: bigint, is_submitter: string, score: bigint, subreddit_id: string]\n",
      "The most frequent word is \"the\".\n",
      "the   232\n",
      "to   169\n",
      "a   155\n",
      "of   124\n",
      "and   122\n",
      "i   117\n",
      "you   107\n",
      "is   89\n",
      "that   77\n",
      "in   71\n",
      "DataFrame[author: string, body: string, controversiality: bigint, is_submitter: string, score: bigint, subreddit_id: string]\n",
      "The most frequent word is \"the\".\n",
      "the   225\n",
      "i   136\n",
      "to   132\n",
      "a   131\n",
      "of   105\n",
      "and   98\n",
      "that   83\n",
      "is   77\n",
      "you   64\n",
      "it   64\n",
      "DataFrame[author: string, body: string, controversiality: bigint, is_submitter: string, score: bigint, subreddit_id: string]\n",
      "The most frequent word is \"the\".\n",
      "the   225\n",
      "i   136\n",
      "to   132\n",
      "a   131\n",
      "of   105\n",
      "and   98\n",
      "that   83\n",
      "is   77\n",
      "you   64\n",
      "it   64\n",
      "DataFrame[author: string, body: string, controversiality: bigint, is_submitter: string, score: bigint, subreddit_id: string]\n",
      "The most frequent word is \"the\".\n",
      "the   267\n",
      "to   165\n",
      "a   163\n",
      "and   152\n",
      "i   146\n",
      "of   127\n",
      "is   97\n",
      "it   95\n",
      "you   90\n",
      "in   76\n",
      "DataFrame[author: string, body: string, controversiality: bigint, is_submitter: string, score: bigint, subreddit_id: string]\n",
      "The most frequent word is \"the\".\n",
      "the   239\n",
      "a   171\n",
      "to   155\n",
      "and   122\n",
      "i   122\n",
      "of   121\n",
      "in   99\n",
      "you   84\n",
      "is   80\n",
      "that   76\n",
      "DataFrame[author: string, body: string, controversiality: bigint, is_submitter: string, score: bigint, subreddit_id: string]\n",
      "The most frequent word is \"the\".\n",
      "the   232\n",
      "to   169\n",
      "a   155\n",
      "of   124\n",
      "and   122\n",
      "i   117\n",
      "you   107\n",
      "is   89\n",
      "that   77\n",
      "in   71\n",
      "DataFrame[author: string, body: string, controversiality: bigint, is_submitter: string, score: bigint, subreddit_id: string]\n",
      "The most frequent word is \"the\".\n",
      "the   267\n",
      "to   165\n",
      "a   163\n",
      "and   152\n",
      "i   146\n",
      "of   127\n",
      "is   97\n",
      "it   95\n",
      "you   90\n",
      "in   76\n",
      "DataFrame[author: string, body: string, controversiality: bigint, is_submitter: string, score: bigint, subreddit_id: string]\n",
      "The most frequent word is \"the\".\n",
      "the   239\n",
      "a   171\n",
      "to   155\n",
      "and   122\n",
      "i   122\n",
      "of   121\n",
      "in   99\n",
      "you   84\n",
      "is   80\n",
      "that   76\n",
      "DataFrame[author: string, body: string, controversiality: bigint, is_submitter: string, score: bigint, subreddit_id: string]\n",
      "The most frequent word is \"the\".\n",
      "the   232\n",
      "to   169\n",
      "a   155\n",
      "of   124\n",
      "and   122\n",
      "i   117\n",
      "you   107\n",
      "is   89\n",
      "that   77\n",
      "in   71\n",
      "756 ms ± 60.4 ms per loop (mean ± std. dev. of 10 runs, 1 loop each)\n"
     ]
    }
   ],
   "source": [
    "%%timeit -r 10 -n 1 #Timing for 1000 records\n",
    "\n",
    "#import Demo_Narges_test\n",
    "\n",
    "#Read records\n",
    "df = reddit.limit(record1)  #1000 records\n",
    "print(df)\n",
    "#Call word frequency function\n",
    "#Demo_Narges_test.word_frequency(lines)\n",
    "word_frequency(df)"
   ]
  },
  {
   "cell_type": "markdown",
   "id": "f220edbd",
   "metadata": {},
   "source": [
    "Experiment 2"
   ]
  },
  {
   "cell_type": "code",
   "execution_count": 13,
   "id": "ba890f70",
   "metadata": {},
   "outputs": [
    {
     "name": "stdout",
     "output_type": "stream",
     "text": [
      "The most frequent word is \"the\".\n",
      "the   2407\n",
      "to   1630\n",
      "a   1390\n",
      "i   1233\n",
      "and   1169\n",
      "of   1051\n",
      "that   828\n",
      "you   814\n",
      "is   784\n",
      "in   691\n",
      "The most frequent word is \"the\".\n",
      "the   2407\n",
      "to   1630\n",
      "a   1390\n",
      "i   1233\n",
      "and   1169\n",
      "of   1051\n",
      "that   828\n",
      "you   814\n",
      "is   784\n",
      "in   691\n",
      "The most frequent word is \"the\".\n",
      "the   2407\n",
      "to   1630\n",
      "a   1390\n",
      "i   1233\n",
      "and   1169\n",
      "of   1051\n",
      "that   828\n",
      "you   814\n",
      "is   784\n",
      "in   691\n",
      "The most frequent word is \"the\".\n",
      "the   2192\n",
      "to   1441\n",
      "a   1300\n",
      "i   1252\n",
      "and   1140\n",
      "of   1029\n",
      "you   849\n",
      "is   747\n",
      "that   744\n",
      "it   710\n",
      "The most frequent word is \"the\".\n",
      "the   2407\n",
      "to   1630\n",
      "a   1390\n",
      "i   1233\n",
      "and   1169\n",
      "of   1051\n",
      "that   828\n",
      "you   814\n",
      "is   784\n",
      "in   691\n",
      "The most frequent word is \"the\".\n",
      "the   2428\n",
      "to   1645\n",
      "i   1378\n",
      "a   1366\n",
      "and   1220\n",
      "of   1185\n",
      "you   814\n",
      "is   802\n",
      "that   799\n",
      "in   774\n",
      "The most frequent word is \"the\".\n",
      "the   2407\n",
      "to   1630\n",
      "a   1390\n",
      "i   1233\n",
      "and   1169\n",
      "of   1051\n",
      "that   828\n",
      "you   814\n",
      "is   784\n",
      "in   691\n",
      "The most frequent word is \"the\".\n",
      "the   2428\n",
      "to   1645\n",
      "i   1378\n",
      "a   1366\n",
      "and   1220\n",
      "of   1185\n",
      "you   814\n",
      "is   802\n",
      "that   799\n",
      "in   774\n",
      "The most frequent word is \"the\".\n",
      "the   2192\n",
      "to   1441\n",
      "a   1300\n",
      "i   1252\n",
      "and   1140\n",
      "of   1029\n",
      "you   849\n",
      "is   747\n",
      "that   744\n",
      "it   710\n",
      "The most frequent word is \"the\".\n",
      "the   2407\n",
      "to   1630\n",
      "a   1390\n",
      "i   1233\n",
      "and   1169\n",
      "of   1051\n",
      "that   828\n",
      "you   814\n",
      "is   784\n",
      "in   691\n",
      "1.17 s ± 86.6 ms per loop (mean ± std. dev. of 10 runs, 1 loop each)\n"
     ]
    }
   ],
   "source": [
    "%%timeit -r 10 -n 1 #Timing for 10000 records\n",
    "\n",
    "#import Demo_Narges_test\n",
    "\n",
    "#Read records\n",
    "df = reddit.limit(record2)  #10000 records\n",
    "#Call word frequency function\n",
    "#Demo_Narges_test.word_frequency(lines)\n",
    "word_frequency(df)"
   ]
  },
  {
   "cell_type": "markdown",
   "id": "d0e4bb3d",
   "metadata": {},
   "source": [
    "Experiment 3"
   ]
  },
  {
   "cell_type": "code",
   "execution_count": 14,
   "id": "cb2ab923",
   "metadata": {},
   "outputs": [
    {
     "name": "stderr",
     "output_type": "stream",
     "text": [
      "                                                                                \r"
     ]
    },
    {
     "name": "stdout",
     "output_type": "stream",
     "text": [
      "The most frequent word is \"the\".\n"
     ]
    },
    {
     "name": "stderr",
     "output_type": "stream",
     "text": [
      "                                                                                \r"
     ]
    },
    {
     "name": "stdout",
     "output_type": "stream",
     "text": [
      "the   22295\n",
      "to   14347\n",
      "a   13505\n",
      "i   12936\n",
      "and   11555\n",
      "of   10261\n",
      "you   7784\n",
      "that   7583\n",
      "is   7449\n",
      "in   7030\n"
     ]
    },
    {
     "name": "stderr",
     "output_type": "stream",
     "text": [
      "                                                                                \r"
     ]
    },
    {
     "name": "stdout",
     "output_type": "stream",
     "text": [
      "The most frequent word is \"the\".\n"
     ]
    },
    {
     "name": "stderr",
     "output_type": "stream",
     "text": [
      "                                                                                \r"
     ]
    },
    {
     "name": "stdout",
     "output_type": "stream",
     "text": [
      "the   23613\n",
      "to   15509\n",
      "a   14360\n",
      "i   12477\n",
      "and   11829\n",
      "of   10774\n",
      "you   8422\n",
      "is   7949\n",
      "that   7757\n",
      "in   7292\n"
     ]
    },
    {
     "name": "stderr",
     "output_type": "stream",
     "text": [
      "                                                                                \r"
     ]
    },
    {
     "name": "stdout",
     "output_type": "stream",
     "text": [
      "The most frequent word is \"the\".\n"
     ]
    },
    {
     "name": "stderr",
     "output_type": "stream",
     "text": [
      "                                                                                \r"
     ]
    },
    {
     "name": "stdout",
     "output_type": "stream",
     "text": [
      "the   22295\n",
      "to   14347\n",
      "a   13505\n",
      "i   12936\n",
      "and   11555\n",
      "of   10261\n",
      "you   7784\n",
      "that   7583\n",
      "is   7449\n",
      "in   7030\n"
     ]
    },
    {
     "name": "stderr",
     "output_type": "stream",
     "text": [
      "                                                                                \r"
     ]
    },
    {
     "name": "stdout",
     "output_type": "stream",
     "text": [
      "The most frequent word is \"the\".\n"
     ]
    },
    {
     "name": "stderr",
     "output_type": "stream",
     "text": [
      "                                                                                \r"
     ]
    },
    {
     "name": "stdout",
     "output_type": "stream",
     "text": [
      "the   22295\n",
      "to   14347\n",
      "a   13505\n",
      "i   12936\n",
      "and   11555\n",
      "of   10261\n",
      "you   7784\n",
      "that   7583\n",
      "is   7449\n",
      "in   7030\n"
     ]
    },
    {
     "name": "stderr",
     "output_type": "stream",
     "text": [
      "                                                                                \r"
     ]
    },
    {
     "name": "stdout",
     "output_type": "stream",
     "text": [
      "The most frequent word is \"the\".\n"
     ]
    },
    {
     "name": "stderr",
     "output_type": "stream",
     "text": [
      "                                                                                \r"
     ]
    },
    {
     "name": "stdout",
     "output_type": "stream",
     "text": [
      "the   22867\n",
      "to   15021\n",
      "a   14307\n",
      "i   13015\n",
      "and   11743\n",
      "of   10654\n",
      "is   8281\n",
      "you   8083\n",
      "that   8057\n",
      "in   7136\n"
     ]
    },
    {
     "name": "stderr",
     "output_type": "stream",
     "text": [
      "                                                                                \r"
     ]
    },
    {
     "name": "stdout",
     "output_type": "stream",
     "text": [
      "The most frequent word is \"the\".\n"
     ]
    },
    {
     "name": "stderr",
     "output_type": "stream",
     "text": [
      "                                                                                \r"
     ]
    },
    {
     "name": "stdout",
     "output_type": "stream",
     "text": [
      "the   23258\n",
      "to   15173\n",
      "a   14176\n",
      "i   13041\n",
      "and   11511\n",
      "of   10497\n",
      "you   8320\n",
      "is   7859\n",
      "that   7808\n",
      "in   7143\n"
     ]
    },
    {
     "name": "stderr",
     "output_type": "stream",
     "text": [
      "                                                                                \r"
     ]
    },
    {
     "name": "stdout",
     "output_type": "stream",
     "text": [
      "The most frequent word is \"the\".\n"
     ]
    },
    {
     "name": "stderr",
     "output_type": "stream",
     "text": [
      "                                                                                \r"
     ]
    },
    {
     "name": "stdout",
     "output_type": "stream",
     "text": [
      "the   22867\n",
      "to   15021\n",
      "a   14307\n",
      "i   13015\n",
      "and   11743\n",
      "of   10654\n",
      "is   8281\n",
      "you   8083\n",
      "that   8057\n",
      "in   7136\n"
     ]
    },
    {
     "name": "stderr",
     "output_type": "stream",
     "text": [
      "                                                                                \r"
     ]
    },
    {
     "name": "stdout",
     "output_type": "stream",
     "text": [
      "The most frequent word is \"the\".\n"
     ]
    },
    {
     "name": "stderr",
     "output_type": "stream",
     "text": [
      "[Stage 758:>                                                        (0 + 1) / 1]\r"
     ]
    },
    {
     "name": "stdout",
     "output_type": "stream",
     "text": [
      "the   22295\n",
      "to   14347\n",
      "a   13505\n",
      "i   12936\n",
      "and   11555\n",
      "of   10261\n",
      "you   7784\n",
      "that   7583\n",
      "is   7449\n",
      "in   7030\n"
     ]
    },
    {
     "name": "stderr",
     "output_type": "stream",
     "text": [
      "                                                                                \r"
     ]
    },
    {
     "name": "stdout",
     "output_type": "stream",
     "text": [
      "The most frequent word is \"the\".\n"
     ]
    },
    {
     "name": "stderr",
     "output_type": "stream",
     "text": [
      "                                                                                \r"
     ]
    },
    {
     "name": "stdout",
     "output_type": "stream",
     "text": [
      "the   22867\n",
      "to   15021\n",
      "a   14307\n",
      "i   13015\n",
      "and   11743\n",
      "of   10654\n",
      "is   8281\n",
      "you   8083\n",
      "that   8057\n",
      "in   7136\n"
     ]
    },
    {
     "name": "stderr",
     "output_type": "stream",
     "text": [
      "                                                                                \r"
     ]
    },
    {
     "name": "stdout",
     "output_type": "stream",
     "text": [
      "The most frequent word is \"the\".\n"
     ]
    },
    {
     "name": "stderr",
     "output_type": "stream",
     "text": [
      "[Stage 772:>                                                        (0 + 1) / 1]\r"
     ]
    },
    {
     "name": "stdout",
     "output_type": "stream",
     "text": [
      "the   23258\n",
      "to   15173\n",
      "a   14176\n",
      "i   13041\n",
      "and   11511\n",
      "of   10497\n",
      "you   8320\n",
      "is   7859\n",
      "that   7808\n",
      "in   7143\n",
      "4.03 s ± 433 ms per loop (mean ± std. dev. of 10 runs, 1 loop each)\n"
     ]
    },
    {
     "name": "stderr",
     "output_type": "stream",
     "text": [
      "\r",
      "                                                                                \r"
     ]
    }
   ],
   "source": [
    "%%timeit -r 10 -n 1 #Timing for 100000 records\n",
    "\n",
    "#import Demo_Narges_test\n",
    "\n",
    "#Read records\n",
    "df = reddit.limit(record3)  #100000 records\n",
    "#Call word frequency function\n",
    "#Demo_Narges_test.word_frequency(lines)\n",
    "word_frequency(df)"
   ]
  },
  {
   "cell_type": "markdown",
   "id": "8c06ce40",
   "metadata": {},
   "source": [
    "Recording the outputs from each experiment."
   ]
  },
  {
   "cell_type": "code",
   "execution_count": null,
   "id": "3e16f809",
   "metadata": {},
   "outputs": [],
   "source": [
    "### Two worker nodes\n",
    "#1000 records: 769 ms ± 80 ms\n",
    "#10000 records: 1.34 s ± 148 ms\n",
    "#100000 records: 5.23 s ± 489 ms\n",
    "\n",
    "### Four worker nodes\n",
    "#1000 records: 756 ms ± 60.4 ms\n",
    "#10000 records: 1.17 s ± 86.6 ms\n",
    "#100000 records: 4.03 s ± 433 ms"
   ]
  },
  {
   "cell_type": "markdown",
   "id": "46a5c557",
   "metadata": {},
   "source": [
    "# Ploting graphs"
   ]
  },
  {
   "cell_type": "code",
   "execution_count": 32,
   "id": "5add7f4a",
   "metadata": {},
   "outputs": [
    {
     "data": {
      "image/png": "[encoded data removed]",
      "text/plain": [
       "<Figure size 800x300 with 1 Axes>"
      ]
     },
     "metadata": {},
     "output_type": "display_data"
    }
   ],
   "source": [
    "import matplotlib.pyplot as plt\n",
    "\n",
    "#Runtime comparison with workers increasing\n",
    "x = [2,4]\n",
    "y1 = [0.769,0.756]\n",
    "y2 = [1.34,1.17]\n",
    "y3 = [5.23,4.03]\n",
    "\n",
    "plt.figure(figsize=(8,3))\n",
    "plt.plot(x,y1,label='1000 records')\n",
    "plt.plot(x,y2,label='10000 records')\n",
    "plt.plot(x,y3,label='100000 records')\n",
    "plt.legend(loc='upper right') \n",
    "plt.xlabel('Number of workers')\n",
    "plt.ylabel('Mean runtime(s)')\n",
    "plt.title('Runtime comparison with number of workers increasing')\n",
    "\n",
    "plt.xticks(range(6),[0,1,2,3,4,5])\n",
    "plt.axis([1, 5, 0, 6])\n",
    "plt.tick_params(axis='both', labelsize=10)\n",
    "plt.show()\n"
   ]
  },
  {
   "cell_type": "code",
   "execution_count": 34,
   "id": "f90f1328",
   "metadata": {},
   "outputs": [
    {
     "data": {
      "image/png": "[encoded data removed]",
      "text/plain": [
       "<Figure size 800x300 with 1 Axes>"
      ]
     },
     "metadata": {},
     "output_type": "display_data"
    }
   ],
   "source": [
    "import matplotlib.pyplot as plt\n",
    "\n",
    "#Runtime comparison with amount of data increasing\n",
    "x = [1000,10000,100000]\n",
    "y1 = [0.769,1.34,5.23]\n",
    "y2 = [0.756,1.17,4.03]\n",
    "\n",
    "\n",
    "plt.figure(figsize=(8,3))\n",
    "plt.plot(x,y1,label='Two workers')\n",
    "plt.plot(x,y2,label='Four workers')\n",
    "plt.legend(loc='upper right') \n",
    "plt.xlabel('Amount of data records')\n",
    "plt.ylabel('Mean runtime(s)')\n",
    "plt.title('Runtime comparison with amount of data increasing')\n",
    "#plt.xticks(range(3),[1000,10000,100000])\n",
    "plt.show()\n"
   ]
  },
  {
   "cell_type": "markdown",
   "id": "418a55e2",
   "metadata": {},
   "source": [
    "# Stop spark session"
   ]
  },
  {
   "cell_type": "code",
   "execution_count": 44,
   "id": "18e8472d",
   "metadata": {},
   "outputs": [],
   "source": [
    "spark_session.stop() "
   ]
  },
  {
   "cell_type": "code",
   "execution_count": null,
   "id": "67ecd8ea",
   "metadata": {},
   "outputs": [],
   "source": []
  }
 ],
 "metadata": {
  "celltoolbar": "Raw Cell Format",
  "kernelspec": {
   "display_name": "Python 3 (ipykernel)",
   "language": "python",
   "name": "python3"
  },
  "language_info": {
   "codemirror_mode": {
    "name": "ipython",
    "version": 3
   },
   "file_extension": ".py",
   "mimetype": "text/x-python",
   "name": "python",
   "nbconvert_exporter": "python",
   "pygments_lexer": "ipython3",
   "version": "3.10.6"
  }
 },
 "nbformat": 4,
 "nbformat_minor": 5
}
